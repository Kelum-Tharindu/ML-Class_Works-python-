{
 "cells": [
  {
   "cell_type": "markdown",
   "metadata": {},
   "source": [
    "Pandas-Working with Data Frames and Structures"
   ]
  },
  {
   "cell_type": "code",
   "execution_count": 1,
   "metadata": {},
   "outputs": [],
   "source": [
    "import numpy as np\n",
    "import pandas as pd"
   ]
  },
  {
   "cell_type": "code",
   "execution_count": 2,
   "metadata": {},
   "outputs": [
    {
     "name": "stdout",
     "output_type": "stream",
     "text": [
      "{'Name': ['Kasun', 'Kamal', 'Nimal', 'Sunil', 'Amal'], 'Age': [23, 24, 25, 26, 27], 'City': ['Colombo', 'Kandy', 'Galle', 'Matara', 'Jaffna']}\n"
     ]
    }
   ],
   "source": [
    "d={'Name':[\"Kasun\",\"Kamal\",\"Nimal\",\"Sunil\",\"Amal\"],'Age':[23,24,25,26,27],'City':[\"Colombo\",\"Kandy\",\"Galle\",\"Matara\",\"Jaffna\"]}\n",
    "print(d)"
   ]
  },
  {
   "cell_type": "code",
   "execution_count": 4,
   "metadata": {},
   "outputs": [
    {
     "name": "stdout",
     "output_type": "stream",
     "text": [
      "    Name  Age     City\n",
      "0  Kasun   23  Colombo\n",
      "1  Kamal   24    Kandy\n",
      "2  Nimal   25    Galle\n",
      "3  Sunil   26   Matara\n",
      "4   Amal   27   Jaffna\n"
     ]
    }
   ],
   "source": [
    "df=pd.DataFrame(d)\n",
    "print(df)"
   ]
  },
  {
   "cell_type": "code",
   "execution_count": 32,
   "metadata": {},
   "outputs": [
    {
     "name": "stdout",
     "output_type": "stream",
     "text": [
      "       Id  Sepal.Length  Sepal.Width  Petal.Length  Petal.Width    Species\n",
      "0    1001           5.1          3.5           1.4          0.2     setosa\n",
      "1    1002           4.9          3.0           1.4          0.2     setosa\n",
      "2    1003           4.7          3.2           1.3          0.2     setosa\n",
      "3    1004           4.6          3.1           1.5          0.2     setosa\n",
      "4    1005           5.0          3.6           1.4          0.2     setosa\n",
      "..    ...           ...          ...           ...          ...        ...\n",
      "145  1146           6.7          3.0           5.2          2.3  virginica\n",
      "146  1147           6.3          2.5           5.0          1.9  virginica\n",
      "147  1148           6.5          3.0           5.2          2.0  virginica\n",
      "148  1149           6.2          3.4           5.4          2.3  virginica\n",
      "149  1150           5.9          3.0           5.1          1.8  virginica\n",
      "\n",
      "[150 rows x 6 columns]\n"
     ]
    }
   ],
   "source": [
    "fp=pd.read_csv('C:\\\\Users\\\\Tharindu\\\\Desktop\\\\Nibm HND\\\\10.ML\\\\iris.csv')\n",
    "print(fp)"
   ]
  },
  {
   "cell_type": "code",
   "execution_count": 4,
   "metadata": {},
   "outputs": [
    {
     "name": "stdout",
     "output_type": "stream",
     "text": [
      "    Name  Age     City\n",
      "0  Kasun   23  Colombo\n",
      "1  Kamal   24    Kandy\n",
      "2  Nimal   25    Galle\n",
      "3  Sunil   26   Matara\n",
      "4   Amal   27   Jaffna\n"
     ]
    }
   ],
   "source": [
    "import pandas as pd\n",
    "df2=pd.DataFrame({'Name':[\"Kasun\",\"Kamal\",\"Nimal\",\"Sunil\",\"Amal\"],'Age':[23,24,25,26,27],'City':[\"Colombo\",\"Kandy\",\"Galle\",\"Matara\",\"Jaffna\"]})\n",
    "print(df2)\n",
    "df2.to_csv('output.csv',index=False)#index=False remove the index column#save as csv file\n",
    "\n",
    "df2.to_csv('output.xlsx',index=False)#save as excel file"
   ]
  },
  {
   "cell_type": "code",
   "execution_count": 10,
   "metadata": {},
   "outputs": [
    {
     "data": {
      "text/plain": [
       "20"
      ]
     },
     "execution_count": 10,
     "metadata": {},
     "output_type": "execute_result"
    }
   ],
   "source": [
    "df2.iloc[1,2]#get the value of 1st row and 2nd column\n",
    "df2.iloc[3,2]=20#change the value of 3rd row and 2nd column\n",
    "df2.iloc[3,2]"
   ]
  },
  {
   "cell_type": "code",
   "execution_count": 11,
   "metadata": {},
   "outputs": [
    {
     "name": "stdout",
     "output_type": "stream",
     "text": [
      "    Name  Age\n",
      "a  Kasun   23\n",
      "b  Kamal   24\n",
      "c  Nimal   25\n",
      "d  Sunil   26\n",
      "e   Amal   27\n"
     ]
    },
    {
     "data": {
      "text/html": [
       "<div>\n",
       "<style scoped>\n",
       "    .dataframe tbody tr th:only-of-type {\n",
       "        vertical-align: middle;\n",
       "    }\n",
       "\n",
       "    .dataframe tbody tr th {\n",
       "        vertical-align: top;\n",
       "    }\n",
       "\n",
       "    .dataframe thead th {\n",
       "        text-align: right;\n",
       "    }\n",
       "</style>\n",
       "<table border=\"1\" class=\"dataframe\">\n",
       "  <thead>\n",
       "    <tr style=\"text-align: right;\">\n",
       "      <th></th>\n",
       "      <th>Name</th>\n",
       "      <th>Age</th>\n",
       "    </tr>\n",
       "  </thead>\n",
       "  <tbody>\n",
       "    <tr>\n",
       "      <th>b</th>\n",
       "      <td>Kamal</td>\n",
       "      <td>24</td>\n",
       "    </tr>\n",
       "    <tr>\n",
       "      <th>c</th>\n",
       "      <td>Nimal</td>\n",
       "      <td>25</td>\n",
       "    </tr>\n",
       "    <tr>\n",
       "      <th>d</th>\n",
       "      <td>Sunil</td>\n",
       "      <td>26</td>\n",
       "    </tr>\n",
       "    <tr>\n",
       "      <th>e</th>\n",
       "      <td>Amal</td>\n",
       "      <td>27</td>\n",
       "    </tr>\n",
       "  </tbody>\n",
       "</table>\n",
       "</div>"
      ],
      "text/plain": [
       "    Name  Age\n",
       "b  Kamal   24\n",
       "c  Nimal   25\n",
       "d  Sunil   26\n",
       "e   Amal   27"
      ]
     },
     "execution_count": 11,
     "metadata": {},
     "output_type": "execute_result"
    }
   ],
   "source": [
    "df3=pd.DataFrame({'Name':[\"Kasun\",\"Kamal\",\"Nimal\",\"Sunil\",\"Amal\"],'Age':[23,24,25,26,27]},index=['a','b','c','d','e'])\n",
    "print(df3)\n",
    "df3.drop('a')#drop the row a temporarily"
   ]
  },
  {
   "cell_type": "code",
   "execution_count": 17,
   "metadata": {},
   "outputs": [
    {
     "name": "stdout",
     "output_type": "stream",
     "text": [
      "    Name  Age\n",
      "b  Kamal   24\n",
      "c  Nimal   25\n",
      "d  Sunil   26\n",
      "e   Amal   27\n"
     ]
    }
   ],
   "source": [
    "\n",
    "# df3.drop('a',inplace=True)                                        #drop the row a permanently\n",
    "# df3.drop('Age',axis=1)                                        #drop the column Age temporarily\n",
    "# df3.drop('Age',axis=1,inplace=True)                          #drop the column Age permanently\n",
    "print(df3)"
   ]
  },
  {
   "cell_type": "code",
   "execution_count": 21,
   "metadata": {},
   "outputs": [
    {
     "name": "stdout",
     "output_type": "stream",
     "text": [
      "          A         B\n",
      "0  0.661408  0.565079\n",
      "1  0.312636  0.830268\n",
      "2  0.022648  0.140979\n",
      "3  0.311498  0.585511\n",
      "4  0.676748  0.178503\n",
      "          C         D\n",
      "0  0.937826  0.946352\n",
      "1  0.361379  0.970622\n",
      "2  0.740613  0.442946\n",
      "3  0.048711  0.736434\n",
      "4  0.600965  0.999260\n",
      "          E         F\n",
      "0  0.264631  0.066288\n",
      "1  0.094038  0.823309\n",
      "2  0.205344  0.212963\n",
      "3  0.066272  0.359537\n",
      "4  0.236817  0.837915\n"
     ]
    }
   ],
   "source": [
    "import numpy as np\n",
    "df1 = pd.DataFrame(np.random.random((5, 2)), columns=['A', 'B'])  # create a dataframe with random values\n",
    "df2 = pd.DataFrame(np.random.random((5, 2)), columns=['C', 'D'])\n",
    "df3 = pd.DataFrame(np.random.random((5, 2)), columns=['E', 'F'])\n",
    "print(df1)\n",
    "print(df2)\n",
    "print(df3)"
   ]
  },
  {
   "cell_type": "code",
   "execution_count": 22,
   "metadata": {},
   "outputs": [
    {
     "data": {
      "text/html": [
       "<div>\n",
       "<style scoped>\n",
       "    .dataframe tbody tr th:only-of-type {\n",
       "        vertical-align: middle;\n",
       "    }\n",
       "\n",
       "    .dataframe tbody tr th {\n",
       "        vertical-align: top;\n",
       "    }\n",
       "\n",
       "    .dataframe thead th {\n",
       "        text-align: right;\n",
       "    }\n",
       "</style>\n",
       "<table border=\"1\" class=\"dataframe\">\n",
       "  <thead>\n",
       "    <tr style=\"text-align: right;\">\n",
       "      <th></th>\n",
       "      <th>A</th>\n",
       "      <th>B</th>\n",
       "      <th>C</th>\n",
       "      <th>D</th>\n",
       "    </tr>\n",
       "  </thead>\n",
       "  <tbody>\n",
       "    <tr>\n",
       "      <th>0</th>\n",
       "      <td>0.661408</td>\n",
       "      <td>0.565079</td>\n",
       "      <td>NaN</td>\n",
       "      <td>NaN</td>\n",
       "    </tr>\n",
       "    <tr>\n",
       "      <th>1</th>\n",
       "      <td>0.312636</td>\n",
       "      <td>0.830268</td>\n",
       "      <td>NaN</td>\n",
       "      <td>NaN</td>\n",
       "    </tr>\n",
       "    <tr>\n",
       "      <th>2</th>\n",
       "      <td>0.022648</td>\n",
       "      <td>0.140979</td>\n",
       "      <td>NaN</td>\n",
       "      <td>NaN</td>\n",
       "    </tr>\n",
       "    <tr>\n",
       "      <th>3</th>\n",
       "      <td>0.311498</td>\n",
       "      <td>0.585511</td>\n",
       "      <td>NaN</td>\n",
       "      <td>NaN</td>\n",
       "    </tr>\n",
       "    <tr>\n",
       "      <th>4</th>\n",
       "      <td>0.676748</td>\n",
       "      <td>0.178503</td>\n",
       "      <td>NaN</td>\n",
       "      <td>NaN</td>\n",
       "    </tr>\n",
       "    <tr>\n",
       "      <th>5</th>\n",
       "      <td>NaN</td>\n",
       "      <td>NaN</td>\n",
       "      <td>0.937826</td>\n",
       "      <td>0.946352</td>\n",
       "    </tr>\n",
       "    <tr>\n",
       "      <th>6</th>\n",
       "      <td>NaN</td>\n",
       "      <td>NaN</td>\n",
       "      <td>0.361379</td>\n",
       "      <td>0.970622</td>\n",
       "    </tr>\n",
       "    <tr>\n",
       "      <th>7</th>\n",
       "      <td>NaN</td>\n",
       "      <td>NaN</td>\n",
       "      <td>0.740613</td>\n",
       "      <td>0.442946</td>\n",
       "    </tr>\n",
       "    <tr>\n",
       "      <th>8</th>\n",
       "      <td>NaN</td>\n",
       "      <td>NaN</td>\n",
       "      <td>0.048711</td>\n",
       "      <td>0.736434</td>\n",
       "    </tr>\n",
       "    <tr>\n",
       "      <th>9</th>\n",
       "      <td>NaN</td>\n",
       "      <td>NaN</td>\n",
       "      <td>0.600965</td>\n",
       "      <td>0.999260</td>\n",
       "    </tr>\n",
       "  </tbody>\n",
       "</table>\n",
       "</div>"
      ],
      "text/plain": [
       "          A         B         C         D\n",
       "0  0.661408  0.565079       NaN       NaN\n",
       "1  0.312636  0.830268       NaN       NaN\n",
       "2  0.022648  0.140979       NaN       NaN\n",
       "3  0.311498  0.585511       NaN       NaN\n",
       "4  0.676748  0.178503       NaN       NaN\n",
       "5       NaN       NaN  0.937826  0.946352\n",
       "6       NaN       NaN  0.361379  0.970622\n",
       "7       NaN       NaN  0.740613  0.442946\n",
       "8       NaN       NaN  0.048711  0.736434\n",
       "9       NaN       NaN  0.600965  0.999260"
      ]
     },
     "execution_count": 22,
     "metadata": {},
     "output_type": "execute_result"
    }
   ],
   "source": [
    "pd.concat([df1, df2],ignore_index=True)  # concatenate two dataframes with ignoring the index"
   ]
  },
  {
   "cell_type": "code",
   "execution_count": 23,
   "metadata": {},
   "outputs": [
    {
     "data": {
      "text/html": [
       "<div>\n",
       "<style scoped>\n",
       "    .dataframe tbody tr th:only-of-type {\n",
       "        vertical-align: middle;\n",
       "    }\n",
       "\n",
       "    .dataframe tbody tr th {\n",
       "        vertical-align: top;\n",
       "    }\n",
       "\n",
       "    .dataframe thead th {\n",
       "        text-align: right;\n",
       "    }\n",
       "</style>\n",
       "<table border=\"1\" class=\"dataframe\">\n",
       "  <thead>\n",
       "    <tr style=\"text-align: right;\">\n",
       "      <th></th>\n",
       "      <th>A</th>\n",
       "      <th>B</th>\n",
       "      <th>C</th>\n",
       "      <th>D</th>\n",
       "    </tr>\n",
       "  </thead>\n",
       "  <tbody>\n",
       "    <tr>\n",
       "      <th>0</th>\n",
       "      <td>0.661408</td>\n",
       "      <td>0.565079</td>\n",
       "      <td>0.937826</td>\n",
       "      <td>0.946352</td>\n",
       "    </tr>\n",
       "    <tr>\n",
       "      <th>1</th>\n",
       "      <td>0.312636</td>\n",
       "      <td>0.830268</td>\n",
       "      <td>0.361379</td>\n",
       "      <td>0.970622</td>\n",
       "    </tr>\n",
       "    <tr>\n",
       "      <th>2</th>\n",
       "      <td>0.022648</td>\n",
       "      <td>0.140979</td>\n",
       "      <td>0.740613</td>\n",
       "      <td>0.442946</td>\n",
       "    </tr>\n",
       "    <tr>\n",
       "      <th>3</th>\n",
       "      <td>0.311498</td>\n",
       "      <td>0.585511</td>\n",
       "      <td>0.048711</td>\n",
       "      <td>0.736434</td>\n",
       "    </tr>\n",
       "    <tr>\n",
       "      <th>4</th>\n",
       "      <td>0.676748</td>\n",
       "      <td>0.178503</td>\n",
       "      <td>0.600965</td>\n",
       "      <td>0.999260</td>\n",
       "    </tr>\n",
       "  </tbody>\n",
       "</table>\n",
       "</div>"
      ],
      "text/plain": [
       "          A         B         C         D\n",
       "0  0.661408  0.565079  0.937826  0.946352\n",
       "1  0.312636  0.830268  0.361379  0.970622\n",
       "2  0.022648  0.140979  0.740613  0.442946\n",
       "3  0.311498  0.585511  0.048711  0.736434\n",
       "4  0.676748  0.178503  0.600965  0.999260"
      ]
     },
     "execution_count": 23,
     "metadata": {},
     "output_type": "execute_result"
    }
   ],
   "source": [
    "pd.concat([df1, df2], axis=1)  # concatenate two dataframes column wise"
   ]
  },
  {
   "cell_type": "code",
   "execution_count": 34,
   "metadata": {},
   "outputs": [
    {
     "name": "stderr",
     "output_type": "stream",
     "text": [
      "C:\\Users\\Tharindu\\AppData\\Local\\Temp\\ipykernel_19672\\2802478693.py:1: FutureWarning: pandas.value_counts is deprecated and will be removed in a future version. Use pd.Series(obj).value_counts() instead.\n",
      "  pd.value_counts(fp['Species'])  # count the number of unique values in a column\n"
     ]
    },
    {
     "data": {
      "text/plain": [
       "Species\n",
       "setosa        50\n",
       "versicolor    50\n",
       "virginica     50\n",
       "Name: count, dtype: int64"
      ]
     },
     "execution_count": 34,
     "metadata": {},
     "output_type": "execute_result"
    }
   ],
   "source": [
    "pd.value_counts(fp['Species'])  # count the number of unique values in a column"
   ]
  },
  {
   "cell_type": "code",
   "execution_count": 46,
   "metadata": {},
   "outputs": [
    {
     "name": "stdout",
     "output_type": "stream",
     "text": [
      "   A     B     C     D\n",
      "0  1   6.0  11.0  16.0\n",
      "1  2   7.0  12.0  17.0\n",
      "2  7   8.0   NaN  18.0\n",
      "3  4   NaN  14.0   NaN\n",
      "4  5  10.0  15.0  20.0\n"
     ]
    }
   ],
   "source": [
    "df5=pd.DataFrame({\n",
    "                  'A':[1,2,7,4,5],\n",
    "                    'B':[6,7,8,None,10],\n",
    "                    'C':[11,12,None,14,15],\n",
    "                    'D':[16,17,18,None,20]})\n",
    "print(df5)"
   ]
  },
  {
   "cell_type": "code",
   "execution_count": 47,
   "metadata": {},
   "outputs": [
    {
     "name": "stdout",
     "output_type": "stream",
     "text": [
      "       A      B      C      D\n",
      "0  False  False  False  False\n",
      "1  False  False  False  False\n",
      "2  False  False   True  False\n",
      "3  False   True  False   True\n",
      "4  False  False  False  False\n"
     ]
    }
   ],
   "source": [
    "print(df5.isnull())  # check for missing values"
   ]
  },
  {
   "cell_type": "code",
   "execution_count": 48,
   "metadata": {},
   "outputs": [
    {
     "name": "stdout",
     "output_type": "stream",
     "text": [
      "3\n"
     ]
    }
   ],
   "source": [
    "totalnull=df5.isnull().sum().sum()  # count the total number of missing values\n",
    "print(totalnull)\n"
   ]
  },
  {
   "cell_type": "code",
   "execution_count": 49,
   "metadata": {},
   "outputs": [
    {
     "name": "stdout",
     "output_type": "stream",
     "text": [
      "A    0\n",
      "B    1\n",
      "C    1\n",
      "D    1\n",
      "dtype: int64\n"
     ]
    }
   ],
   "source": [
    "null_per_column=df5.isnull().sum()  # count the number of missing values in each column\n",
    "print(null_per_column)"
   ]
  },
  {
   "cell_type": "code",
   "execution_count": 52,
   "metadata": {},
   "outputs": [
    {
     "data": {
      "text/html": [
       "<div>\n",
       "<style scoped>\n",
       "    .dataframe tbody tr th:only-of-type {\n",
       "        vertical-align: middle;\n",
       "    }\n",
       "\n",
       "    .dataframe tbody tr th {\n",
       "        vertical-align: top;\n",
       "    }\n",
       "\n",
       "    .dataframe thead th {\n",
       "        text-align: right;\n",
       "    }\n",
       "</style>\n",
       "<table border=\"1\" class=\"dataframe\">\n",
       "  <thead>\n",
       "    <tr style=\"text-align: right;\">\n",
       "      <th></th>\n",
       "      <th>A</th>\n",
       "      <th>B</th>\n",
       "      <th>C</th>\n",
       "      <th>D</th>\n",
       "    </tr>\n",
       "  </thead>\n",
       "  <tbody>\n",
       "    <tr>\n",
       "      <th>0</th>\n",
       "      <td>1</td>\n",
       "      <td>6.0</td>\n",
       "      <td>11.0</td>\n",
       "      <td>16.0</td>\n",
       "    </tr>\n",
       "    <tr>\n",
       "      <th>1</th>\n",
       "      <td>2</td>\n",
       "      <td>7.0</td>\n",
       "      <td>12.0</td>\n",
       "      <td>17.0</td>\n",
       "    </tr>\n",
       "    <tr>\n",
       "      <th>4</th>\n",
       "      <td>5</td>\n",
       "      <td>10.0</td>\n",
       "      <td>15.0</td>\n",
       "      <td>20.0</td>\n",
       "    </tr>\n",
       "  </tbody>\n",
       "</table>\n",
       "</div>"
      ],
      "text/plain": [
       "   A     B     C     D\n",
       "0  1   6.0  11.0  16.0\n",
       "1  2   7.0  12.0  17.0\n",
       "4  5  10.0  15.0  20.0"
      ]
     },
     "execution_count": 52,
     "metadata": {},
     "output_type": "execute_result"
    }
   ],
   "source": [
    "df5.dropna()                    # drop drop rows with missing values temporarily\n",
    "# df5.dropna(axis=1)                  # drop columns with missing values temporarily\n",
    "# df5.dropna(thresh=3)                                 # drop rows with less than 3 non-missing values temporarily\n",
    "# df5.dropna(subset=['A'])                    # drop rows with missing values in column A temporarily\n"
   ]
  },
  {
   "cell_type": "code",
   "execution_count": 57,
   "metadata": {},
   "outputs": [
    {
     "name": "stdout",
     "output_type": "stream",
     "text": [
      "   A        B        C        D\n",
      "0  1      6.0     11.0     16.0\n",
      "1  2      7.0     12.0     17.0\n",
      "2  7      8.0  10000.0     18.0\n",
      "3  4  10000.0     14.0  10000.0\n",
      "4  5     10.0     15.0     20.0\n"
     ]
    }
   ],
   "source": [
    "a=df5.fillna(10000)  # fill missing values with 0\n",
    "print(a)\n"
   ]
  },
  {
   "cell_type": "code",
   "execution_count": 59,
   "metadata": {},
   "outputs": [
    {
     "name": "stdout",
     "output_type": "stream",
     "text": [
      "   A      B     C      D\n",
      "0  1   6.00  11.0  16.00\n",
      "1  2   7.00  12.0  17.00\n",
      "2  7   8.00  13.0  18.00\n",
      "3  4   7.75  14.0  17.75\n",
      "4  5  10.00  15.0  20.00\n"
     ]
    }
   ],
   "source": [
    "df_filled=df5.fillna(df5.mean())  # fill missing values with the mean of the column\n",
    "print(df_filled)"
   ]
  },
  {
   "cell_type": "markdown",
   "metadata": {},
   "source": [
    "Filter and Modify existing Data\n"
   ]
  },
  {
   "cell_type": "code",
   "execution_count": 60,
   "metadata": {},
   "outputs": [
    {
     "name": "stdout",
     "output_type": "stream",
     "text": [
      "    Name  Age\n",
      "0  Kasun   23\n",
      "1  Kamal   24\n",
      "2  Nimal   25\n",
      "3  Sunil   26\n",
      "4   Amal   27\n"
     ]
    }
   ],
   "source": [
    "data={'Name':[\"Kasun\",\"Kamal\",\"Nimal\",\"Sunil\",\"Amal\"],'Age':[23,24,25,26,27]}\n",
    "df1=pd.DataFrame(data)\n",
    "print(df1)"
   ]
  },
  {
   "cell_type": "code",
   "execution_count": 63,
   "metadata": {},
   "outputs": [
    {
     "name": "stdout",
     "output_type": "stream",
     "text": [
      "    Name  Age\n",
      "2  Nimal   25\n",
      "3  Sunil   26\n",
      "4   Amal   27\n"
     ]
    }
   ],
   "source": [
    "filter1=df1[df1['Age']>24]  # filter rows where Age is greater than 24\n",
    "print(filter1)"
   ]
  },
  {
   "cell_type": "code",
   "execution_count": 64,
   "metadata": {},
   "outputs": [
    {
     "name": "stdout",
     "output_type": "stream",
     "text": [
      "    Name  Age\n",
      "0  KASUN   23\n",
      "1  KAMAL   24\n",
      "2  NIMAL   25\n",
      "3  SUNIL   26\n",
      "4   AMAL   27\n",
      "    Name  Age\n",
      "0  KASUN   24\n",
      "1  KAMAL   25\n",
      "2  NIMAL   26\n",
      "3  SUNIL   27\n",
      "4   AMAL   28\n"
     ]
    }
   ],
   "source": [
    "df1['Name']=df1['Name'].str.upper()  # convert the Name column to uppercase\n",
    "print(df1)\n",
    "df1['Age']=df1['Age'].apply(lambda x:x+1)  # add 1 to each value in the Age column\n",
    "print(df1)"
   ]
  },
  {
   "cell_type": "code",
   "execution_count": 65,
   "metadata": {},
   "outputs": [
    {
     "data": {
      "text/plain": [
       "[0, 1, 2, 3, 4]"
      ]
     },
     "execution_count": 65,
     "metadata": {},
     "output_type": "execute_result"
    }
   ],
   "source": [
    "list(df1.index)  # get the index of the dataframe"
   ]
  },
  {
   "cell_type": "code",
   "execution_count": 72,
   "metadata": {},
   "outputs": [
    {
     "data": {
      "text/html": [
       "<div>\n",
       "<style scoped>\n",
       "    .dataframe tbody tr th:only-of-type {\n",
       "        vertical-align: middle;\n",
       "    }\n",
       "\n",
       "    .dataframe tbody tr th {\n",
       "        vertical-align: top;\n",
       "    }\n",
       "\n",
       "    .dataframe thead th {\n",
       "        text-align: right;\n",
       "    }\n",
       "</style>\n",
       "<table border=\"1\" class=\"dataframe\">\n",
       "  <thead>\n",
       "    <tr style=\"text-align: right;\">\n",
       "      <th></th>\n",
       "      <th>Name</th>\n",
       "      <th>Age</th>\n",
       "    </tr>\n",
       "  </thead>\n",
       "  <tbody>\n",
       "    <tr>\n",
       "      <th>5</th>\n",
       "      <td>NaN</td>\n",
       "      <td>NaN</td>\n",
       "    </tr>\n",
       "    <tr>\n",
       "      <th>0</th>\n",
       "      <td>KASUN</td>\n",
       "      <td>24.0</td>\n",
       "    </tr>\n",
       "    <tr>\n",
       "      <th>3</th>\n",
       "      <td>SUNIL</td>\n",
       "      <td>27.0</td>\n",
       "    </tr>\n",
       "    <tr>\n",
       "      <th>2</th>\n",
       "      <td>NIMAL</td>\n",
       "      <td>26.0</td>\n",
       "    </tr>\n",
       "    <tr>\n",
       "      <th>1</th>\n",
       "      <td>KAMAL</td>\n",
       "      <td>25.0</td>\n",
       "    </tr>\n",
       "  </tbody>\n",
       "</table>\n",
       "</div>"
      ],
      "text/plain": [
       "    Name   Age\n",
       "5    NaN   NaN\n",
       "0  KASUN  24.0\n",
       "3  SUNIL  27.0\n",
       "2  NIMAL  26.0\n",
       "1  KAMAL  25.0"
      ]
     },
     "execution_count": 72,
     "metadata": {},
     "output_type": "execute_result"
    }
   ],
   "source": [
    "df1.reindex([5,0,3,2,1])  # change the order of the rows"
   ]
  }
 ],
 "metadata": {
  "kernelspec": {
   "display_name": "Python 3",
   "language": "python",
   "name": "python3"
  },
  "language_info": {
   "codemirror_mode": {
    "name": "ipython",
    "version": 3
   },
   "file_extension": ".py",
   "mimetype": "text/x-python",
   "name": "python",
   "nbconvert_exporter": "python",
   "pygments_lexer": "ipython3",
   "version": "3.12.8"
  }
 },
 "nbformat": 4,
 "nbformat_minor": 2
}
